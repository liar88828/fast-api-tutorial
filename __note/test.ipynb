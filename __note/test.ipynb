{
 "cells": [
  {
   "cell_type": "code",
   "execution_count": null,
   "id": "initial_id",
   "metadata": {
    "collapsed": true
   },
   "outputs": [],
   "source": [
    ""
   ]
  },
  {
   "metadata": {
    "ExecuteTime": {
     "end_time": "2025-01-20T14:58:30.724650Z",
     "start_time": "2025-01-20T14:58:30.714674Z"
    }
   },
   "cell_type": "code",
   "source": "# range(0, 16, 4) [0, 4, 8, 12]",
   "id": "fd2fddb14dae266",
   "outputs": [
    {
     "data": {
      "text/plain": [
       "range(0, 16, 4)"
      ]
     },
     "execution_count": 1,
     "metadata": {},
     "output_type": "execute_result"
    }
   ],
   "execution_count": 1
  },
  {
   "metadata": {
    "ExecuteTime": {
     "end_time": "2025-01-20T15:03:39.668395Z",
     "start_time": "2025-01-20T15:03:39.662355Z"
    }
   },
   "cell_type": "code",
   "source": [
    "myBytes = b'\\x124Vx\\x90\\xab\\xcd\\xef\\xfe\\xdc\\xba\\x98vT2\\x10'\n",
    "len(myBytes)"
   ],
   "id": "2ed5e1f7322e8ed9",
   "outputs": [
    {
     "data": {
      "text/plain": [
       "16"
      ]
     },
     "execution_count": 3,
     "metadata": {},
     "output_type": "execute_result"
    }
   ],
   "execution_count": 3
  },
  {
   "metadata": {
    "ExecuteTime": {
     "end_time": "2025-01-22T06:19:25.102417Z",
     "start_time": "2025-01-22T06:19:25.080578Z"
    }
   },
   "cell_type": "code",
   "source": "4 % 4",
   "id": "2b022ef009223cc1",
   "outputs": [
    {
     "data": {
      "text/plain": [
       "0"
      ]
     },
     "execution_count": 1,
     "metadata": {},
     "output_type": "execute_result"
    }
   ],
   "execution_count": 1
  },
  {
   "metadata": {
    "ExecuteTime": {
     "end_time": "2025-01-22T10:21:51.890067Z",
     "start_time": "2025-01-22T10:21:51.883094Z"
    }
   },
   "cell_type": "code",
   "source": [
    "data = range(1, 10)\n",
    "\n",
    "print(data)  #[1, 2, 3, 4, 5, 6, 7, 8, 9]"
   ],
   "id": "7af8e6e5680a6bf",
   "outputs": [
    {
     "name": "stdout",
     "output_type": "stream",
     "text": [
      "range(1, 10)\n"
     ]
    }
   ],
   "execution_count": 2
  },
  {
   "metadata": {},
   "cell_type": "code",
   "outputs": [],
   "execution_count": null,
   "source": [
    "\"\"\"\n",
    "10101001\n",
    "00101110\n",
    "--------\n",
    "10000111\n",
    "-\n",
    "10000111\n",
    "10010101\n",
    "--------\n",
    "00010010\n",
    "-\n",
    "00010010\n",
    "01100000\n",
    "--------\n",
    "01110010\n",
    "\n",
    "\"\"\""
   ],
   "id": "98e7189727fdec2d"
  },
  {
   "metadata": {
    "ExecuteTime": {
     "end_time": "2025-01-22T12:09:00.699510Z",
     "start_time": "2025-01-22T12:09:00.689672Z"
    }
   },
   "cell_type": "code",
   "source": [
    "a = [169, 46, 149, 96]\n",
    "t = a[0] ^ a[1] ^ a[2] ^ a[3]\n",
    "\n",
    "print(t)"
   ],
   "id": "8e6ecb74c44a4794",
   "outputs": [
    {
     "name": "stdout",
     "output_type": "stream",
     "text": [
      "114\n"
     ]
    }
   ],
   "execution_count": 3
  },
  {
   "metadata": {
    "ExecuteTime": {
     "end_time": "2025-01-22T12:44:30.896792Z",
     "start_time": "2025-01-22T12:44:30.882546Z"
    }
   },
   "cell_type": "code",
   "source": " # 46 ^ 114 ^ 37",
   "id": "2f5c776e2b5acecf",
   "outputs": [
    {
     "data": {
      "text/plain": [
       "121"
      ]
     },
     "execution_count": 4,
     "metadata": {},
     "output_type": "execute_result"
    }
   ],
   "execution_count": 4
  },
  {
   "metadata": {
    "ExecuteTime": {
     "end_time": "2025-01-24T10:22:10.951130Z",
     "start_time": "2025-01-24T10:22:10.946030Z"
    }
   },
   "cell_type": "code",
   "source": [
    "a = [1, 2, 3]\n",
    "b = ['x', 'y', 'z']\n",
    "zipped = zip(a, b)\n",
    "\n",
    "print(list(zipped))"
   ],
   "id": "bd8fc6f5d6935e83",
   "outputs": [
    {
     "name": "stdout",
     "output_type": "stream",
     "text": [
      "[(1, 'x'), (2, 'y'), (3, 'z')]\n"
     ]
    }
   ],
   "execution_count": 1
  }
 ],
 "metadata": {
  "kernelspec": {
   "display_name": "Python 3",
   "language": "python",
   "name": "python3"
  },
  "language_info": {
   "codemirror_mode": {
    "name": "ipython",
    "version": 2
   },
   "file_extension": ".py",
   "mimetype": "text/x-python",
   "name": "python",
   "nbconvert_exporter": "python",
   "pygments_lexer": "ipython2",
   "version": "2.7.6"
  }
 },
 "nbformat": 4,
 "nbformat_minor": 5
}
