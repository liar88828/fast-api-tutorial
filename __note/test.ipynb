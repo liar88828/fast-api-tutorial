{
 "cells": [
  {
   "cell_type": "code",
   "execution_count": null,
   "id": "initial_id",
   "metadata": {
    "collapsed": true
   },
   "outputs": [],
   "source": [
    ""
   ]
  },
  {
   "metadata": {
    "ExecuteTime": {
     "end_time": "2025-01-20T14:58:30.724650Z",
     "start_time": "2025-01-20T14:58:30.714674Z"
    }
   },
   "cell_type": "code",
   "source": "# range(0, 16, 4) [0, 4, 8, 12]",
   "id": "fd2fddb14dae266",
   "outputs": [
    {
     "data": {
      "text/plain": [
       "range(0, 16, 4)"
      ]
     },
     "execution_count": 1,
     "metadata": {},
     "output_type": "execute_result"
    }
   ],
   "execution_count": 1
  },
  {
   "metadata": {
    "ExecuteTime": {
     "end_time": "2025-01-20T15:03:39.668395Z",
     "start_time": "2025-01-20T15:03:39.662355Z"
    }
   },
   "cell_type": "code",
   "source": [
    "myBytes = b'\\x124Vx\\x90\\xab\\xcd\\xef\\xfe\\xdc\\xba\\x98vT2\\x10'\n",
    "len(myBytes)"
   ],
   "id": "2ed5e1f7322e8ed9",
   "outputs": [
    {
     "data": {
      "text/plain": [
       "16"
      ]
     },
     "execution_count": 3,
     "metadata": {},
     "output_type": "execute_result"
    }
   ],
   "execution_count": 3
  }
 ],
 "metadata": {
  "kernelspec": {
   "display_name": "Python 3",
   "language": "python",
   "name": "python3"
  },
  "language_info": {
   "codemirror_mode": {
    "name": "ipython",
    "version": 2
   },
   "file_extension": ".py",
   "mimetype": "text/x-python",
   "name": "python",
   "nbconvert_exporter": "python",
   "pygments_lexer": "ipython2",
   "version": "2.7.6"
  }
 },
 "nbformat": 4,
 "nbformat_minor": 5
}
